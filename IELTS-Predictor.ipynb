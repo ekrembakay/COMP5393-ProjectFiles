{
 "cells": [
  {
   "cell_type": "markdown",
   "source": [
    "This notebook includes the source code prepared for COMP5393-Capstone Project.\n",
    "Project Title: Automated IELTS Essay Scoring by Using Machine Learning Algorithms\n",
    "Project Author: Ekrem Bakay\n",
    "Project Advisor: Dr. Mustafa Duran\n"
   ],
   "metadata": {
    "collapsed": false,
    "pycharm": {
     "name": "#%% md\n"
    }
   }
  },
  {
   "cell_type": "markdown",
   "source": [
    "# IELTS Predictor\n",
    "\n",
    "IELTS is an international assessment tool which tests the ability to listen, read, write and speak in English and is graded on a scale of 1-9. While preparing to the exam, students usually take practice exams in which they can master their language skills. Unlike the IELTS reading and listening part, evaluating the IELTS writing task is time-consuming and also it needs an expert teacher which costs lots of money. With Artificial Intelligence, Machine Learning and Natural Language Processing it is now possible to get instant IELTS writing evaluation. This project will automate the evaluation and scoring of an IELTS practice essay by using machine learning models."
   ],
   "metadata": {
    "collapsed": false,
    "pycharm": {
     "name": "#%% md\n"
    }
   }
  },
  {
   "cell_type": "markdown",
   "source": [
    "## 1-Importing Necessary Libraries\n",
    "In the first step, I always import all the necessary python libraries in the first cell. Below cell imports all the libraries used in this notebook."
   ],
   "metadata": {
    "collapsed": false,
    "pycharm": {
     "name": "#%% md\n"
    }
   }
  },
  {
   "cell_type": "code",
   "execution_count": 2,
   "outputs": [],
   "source": [
    "import pandas as pd\n",
    "import numpy as np\n",
    "import seaborn as sns\n",
    "from matplotlib import pyplot as plt\n",
    "import random\n",
    "import gc\n",
    "import os\n",
    "import spacy\n",
    "from sklearn.model_selection import train_test_split\n",
    "from sklearn.metrics import f1_score\n",
    "import torch\n",
    "from tqdm.notebook import tqdm\n",
    "from torch.utils.data import TensorDataset\n",
    "from transformers import BertTokenizer, BertForSequenceClassification, AdamW, get_linear_schedule_with_warmup\n",
    "from torch.utils.data import DataLoader, RandomSampler, SequentialSampler"
   ],
   "metadata": {
    "collapsed": false,
    "pycharm": {
     "name": "#%%\n"
    }
   }
  },
  {
   "cell_type": "markdown",
   "source": [
    "Let's set the seed of the random number generator to a fixed value, so that when it is called, the results will be reproducible."
   ],
   "metadata": {
    "collapsed": false,
    "pycharm": {
     "name": "#%% md\n"
    }
   }
  },
  {
   "cell_type": "code",
   "execution_count": 3,
   "outputs": [],
   "source": [
    "seed_val = 17\n",
    "random.seed(seed_val)\n",
    "np.random.seed(seed_val)\n",
    "torch.manual_seed(seed_val)\n",
    "torch.cuda.manual_seed_all(seed_val)"
   ],
   "metadata": {
    "collapsed": false,
    "pycharm": {
     "name": "#%%\n"
    }
   }
  },
  {
   "cell_type": "markdown",
   "source": [
    "______\n",
    "______"
   ],
   "metadata": {
    "collapsed": false,
    "pycharm": {
     "name": "#%% md\n"
    }
   }
  },
  {
   "cell_type": "markdown",
   "source": [
    "## 2- Data Preparation\n",
    "### 2.1- Creating the Dataseet\n",
    "After finding 204 pdf documents which provides three different rater scores for various task 2 essay texts, I converted each pdf to a txt file which includes essay topic, essay body and three scores separated by # sign. Each txt file was then processed and collected as a dataset by a python code and saved as csv file which will be used in further steps. Below cells include the python code which converts txt file to pandas dataframe and saves it as csv."
   ],
   "metadata": {
    "collapsed": false,
    "pycharm": {
     "name": "#%% md\n"
    }
   }
  },
  {
   "cell_type": "code",
   "execution_count": 4,
   "outputs": [],
   "source": [
    "# function to convert each txt file to a dictionary object\n",
    "def load_files():\n",
    "    new_dic = {}\n",
    "    Topic, Essay, S1, S2, S3 = [], [] , [], [], []\n",
    "    file_path = os.path.join(os.getcwd(), \"essays/\")\n",
    "    for file in os.listdir(file_path):\n",
    "        extension = os.path.splitext(file)[1]\n",
    "        if extension == \".txt\":\n",
    "            with open(os.path.join(file_path, file)) as f:\n",
    "                index = 0\n",
    "                essay_line = \"\"\n",
    "                for line in f:\n",
    "                    if line.strip()=='#':\n",
    "                        index += 1\n",
    "                        continue\n",
    "                    if index == 0:\n",
    "                        Topic.append(line.strip())\n",
    "                    elif index == 1:\n",
    "                        essay_line = essay_line + \" \" + line.strip()\n",
    "                    elif index == 2:\n",
    "                        S1.append(float(line.rstrip()))\n",
    "                    elif index == 3:\n",
    "                        S2.append(float(line.rstrip()))\n",
    "                    else:\n",
    "                        S3.append(float(line.rstrip()))\n",
    "                Essay.append(essay_line)\n",
    "        new_dic = {'EssayTopic': Topic, 'EssayBody': Essay, 'S1': S1, 'S2': S2, 'S3': S3}\n",
    "    return new_dic"
   ],
   "metadata": {
    "collapsed": false,
    "pycharm": {
     "name": "#%%\n"
    }
   }
  },
  {
   "cell_type": "code",
   "execution_count": 5,
   "outputs": [],
   "source": [
    "# use load_files function to get the txt file content as dictionary object and convert it to pandas dataframe\n",
    "df = pd.DataFrame.from_dict(load_files())\n",
    "\n",
    "# calculate average essay score by combining three rater scores\n",
    "df['EssayScore'] = np.round(((df[\"S1\"] + df[\"S2\"] + df[\"S3\"])/3)*2)/2\n",
    "\n",
    "# save the dataframe as csv file to be used in further processing\n",
    "df.to_csv(\"essay_dataset.csv\", index=False)"
   ],
   "metadata": {
    "collapsed": false,
    "pycharm": {
     "name": "#%%\n"
    }
   }
  },
  {
   "cell_type": "markdown",
   "source": [
    "### 2.2 Importing data\n",
    "In the next step, created csv file is imported to be used in the remaining of this notebook. Pandas libraries will be used to import the csv data and process it as a dataframe named 'essays'. After importing, values are sorted according to 'EssayScore' column which hold the target essay score. Below cell executes the code for import process, and output shows a part of the dataframe created."
   ],
   "metadata": {
    "collapsed": false,
    "pycharm": {
     "name": "#%% md\n"
    }
   }
  },
  {
   "cell_type": "code",
   "execution_count": 6,
   "outputs": [
    {
     "data": {
      "text/plain": "                                           EssayTopic  \\\n60  What kind of climate do you prefer to live in?...   \n55  What kind of climate do you prefer to live in?...   \n31  It is possible to be single for all your life ...   \n40  Money can solve all problems. Do you agree or ...   \n10  What kind of climate do you prefer to live in?...   \n\n                                            EssayBody   S1   S2   S3  \\\n60   Human live in the earth, as result they have ...  5.0  5.5  5.0   \n55   If I want to choose a climate for living in t...  5.0  5.0  5.0   \n31   As long as the world around us has become mod...  5.0  5.0  5.0   \n40   These days, people’s life is more complex, ha...  5.0  5.0  5.0   \n10   If I want to choose a climate for living in t...  5.0  5.0  5.0   \n\n    EssayScore  \n60         5.0  \n55         5.0  \n31         5.0  \n40         5.0  \n10         5.0  ",
      "text/html": "<div>\n<style scoped>\n    .dataframe tbody tr th:only-of-type {\n        vertical-align: middle;\n    }\n\n    .dataframe tbody tr th {\n        vertical-align: top;\n    }\n\n    .dataframe thead th {\n        text-align: right;\n    }\n</style>\n<table border=\"1\" class=\"dataframe\">\n  <thead>\n    <tr style=\"text-align: right;\">\n      <th></th>\n      <th>EssayTopic</th>\n      <th>EssayBody</th>\n      <th>S1</th>\n      <th>S2</th>\n      <th>S3</th>\n      <th>EssayScore</th>\n    </tr>\n  </thead>\n  <tbody>\n    <tr>\n      <th>60</th>\n      <td>What kind of climate do you prefer to live in?...</td>\n      <td>Human live in the earth, as result they have ...</td>\n      <td>5.0</td>\n      <td>5.5</td>\n      <td>5.0</td>\n      <td>5.0</td>\n    </tr>\n    <tr>\n      <th>55</th>\n      <td>What kind of climate do you prefer to live in?...</td>\n      <td>If I want to choose a climate for living in t...</td>\n      <td>5.0</td>\n      <td>5.0</td>\n      <td>5.0</td>\n      <td>5.0</td>\n    </tr>\n    <tr>\n      <th>31</th>\n      <td>It is possible to be single for all your life ...</td>\n      <td>As long as the world around us has become mod...</td>\n      <td>5.0</td>\n      <td>5.0</td>\n      <td>5.0</td>\n      <td>5.0</td>\n    </tr>\n    <tr>\n      <th>40</th>\n      <td>Money can solve all problems. Do you agree or ...</td>\n      <td>These days, people’s life is more complex, ha...</td>\n      <td>5.0</td>\n      <td>5.0</td>\n      <td>5.0</td>\n      <td>5.0</td>\n    </tr>\n    <tr>\n      <th>10</th>\n      <td>What kind of climate do you prefer to live in?...</td>\n      <td>If I want to choose a climate for living in t...</td>\n      <td>5.0</td>\n      <td>5.0</td>\n      <td>5.0</td>\n      <td>5.0</td>\n    </tr>\n  </tbody>\n</table>\n</div>"
     },
     "execution_count": 6,
     "metadata": {},
     "output_type": "execute_result"
    }
   ],
   "source": [
    "essays = pd.read_csv('essay_dataset.csv')\n",
    "essays.sort_values(by=['EssayScore'], inplace=True)\n",
    "essays.head()"
   ],
   "metadata": {
    "collapsed": false,
    "pycharm": {
     "name": "#%%\n"
    }
   }
  },
  {
   "cell_type": "markdown",
   "source": [
    "### 2.3 Exploratory Data Analysis\n",
    "Let's check the data type for each column and whether there is any missing data. As it can be seen from the output, EssayTopic and EssayBody columns have the \"object\" type and all the other column have \"float\" data type. None of the columns has missing value."
   ],
   "metadata": {
    "collapsed": false,
    "pycharm": {
     "name": "#%% md\n"
    }
   }
  },
  {
   "cell_type": "code",
   "execution_count": 7,
   "outputs": [
    {
     "name": "stdout",
     "output_type": "stream",
     "text": [
      "EssayTopic     object\n",
      "EssayBody      object\n",
      "S1            float64\n",
      "S2            float64\n",
      "S3            float64\n",
      "EssayScore    float64\n",
      "dtype: object\n",
      "\n",
      "\n",
      "EssayTopic    0\n",
      "EssayBody     0\n",
      "S1            0\n",
      "S2            0\n",
      "S3            0\n",
      "EssayScore    0\n",
      "dtype: int64\n"
     ]
    }
   ],
   "source": [
    "# print data types and number of null values for each column\n",
    "print(essays.dtypes)\n",
    "print('\\n')\n",
    "print(essays.isnull().sum())"
   ],
   "metadata": {
    "collapsed": false,
    "pycharm": {
     "name": "#%%\n"
    }
   }
  },
  {
   "cell_type": "markdown",
   "source": [
    "Pandas’s describe function gives an overview about numeric features of the data which is presented in the below table. According to table, the data contains 68 rows of values. The minimum value for essay scores is five, while the maximum value is nine."
   ],
   "metadata": {
    "collapsed": false,
    "pycharm": {
     "name": "#%% md\n"
    }
   }
  },
  {
   "cell_type": "code",
   "execution_count": 8,
   "id": "84d4bff8",
   "metadata": {
    "pycharm": {
     "name": "#%%\n"
    }
   },
   "outputs": [
    {
     "data": {
      "text/plain": "              S1         S2         S3  EssayScore\ncount  68.000000  68.000000  68.000000   68.000000\nmean    7.470588   7.551471   7.477941    7.522059\nstd     1.218276   1.149756   1.107754    1.144206\nmin     5.000000   5.000000   5.000000    5.000000\n25%     6.500000   6.500000   6.875000    6.500000\n50%     8.000000   8.000000   8.000000    8.000000\n75%     8.500000   8.500000   8.500000    8.500000\nmax     9.000000   9.000000   9.000000    9.000000",
      "text/html": "<div>\n<style scoped>\n    .dataframe tbody tr th:only-of-type {\n        vertical-align: middle;\n    }\n\n    .dataframe tbody tr th {\n        vertical-align: top;\n    }\n\n    .dataframe thead th {\n        text-align: right;\n    }\n</style>\n<table border=\"1\" class=\"dataframe\">\n  <thead>\n    <tr style=\"text-align: right;\">\n      <th></th>\n      <th>S1</th>\n      <th>S2</th>\n      <th>S3</th>\n      <th>EssayScore</th>\n    </tr>\n  </thead>\n  <tbody>\n    <tr>\n      <th>count</th>\n      <td>68.000000</td>\n      <td>68.000000</td>\n      <td>68.000000</td>\n      <td>68.000000</td>\n    </tr>\n    <tr>\n      <th>mean</th>\n      <td>7.470588</td>\n      <td>7.551471</td>\n      <td>7.477941</td>\n      <td>7.522059</td>\n    </tr>\n    <tr>\n      <th>std</th>\n      <td>1.218276</td>\n      <td>1.149756</td>\n      <td>1.107754</td>\n      <td>1.144206</td>\n    </tr>\n    <tr>\n      <th>min</th>\n      <td>5.000000</td>\n      <td>5.000000</td>\n      <td>5.000000</td>\n      <td>5.000000</td>\n    </tr>\n    <tr>\n      <th>25%</th>\n      <td>6.500000</td>\n      <td>6.500000</td>\n      <td>6.875000</td>\n      <td>6.500000</td>\n    </tr>\n    <tr>\n      <th>50%</th>\n      <td>8.000000</td>\n      <td>8.000000</td>\n      <td>8.000000</td>\n      <td>8.000000</td>\n    </tr>\n    <tr>\n      <th>75%</th>\n      <td>8.500000</td>\n      <td>8.500000</td>\n      <td>8.500000</td>\n      <td>8.500000</td>\n    </tr>\n    <tr>\n      <th>max</th>\n      <td>9.000000</td>\n      <td>9.000000</td>\n      <td>9.000000</td>\n      <td>9.000000</td>\n    </tr>\n  </tbody>\n</table>\n</div>"
     },
     "execution_count": 8,
     "metadata": {},
     "output_type": "execute_result"
    }
   ],
   "source": [
    "# Describe the statistics for numeric columns\n",
    "essays.describe()"
   ]
  },
  {
   "cell_type": "markdown",
   "source": [
    "Although IELTS band scores are between 1 and 9, our dataset includes scores from 5 till 9 incremented by 0.5. Below chart shows the distribution of unique scores according to their number of occurrences in the dataset. Each score occurs in the following frequencies; 5: 5 times, 5.5: 1 time, 6: 4 times, 6.5: 8 times, 7: 6 times, 7.5: 7 times, 8: 14 times, 8.5: 17 times, 9: 6 times.\n",
    "\n",
    "As it can be seen from the above chart that the data distribution is unbalanced. Thus, it should be organized in way that it will produce results without bias. In order to reduce to complexity of the analysis and provide balance for the dataset, the closer scores will be grouped under three main classes such that; low band: scores between 5 and 6.5, moderate band: scores between 7 and 8, and high band: scores above 8."
   ],
   "metadata": {
    "collapsed": false,
    "pycharm": {
     "name": "#%% md\n"
    }
   }
  },
  {
   "cell_type": "code",
   "execution_count": 9,
   "id": "57b0f6a2",
   "metadata": {
    "pycharm": {
     "name": "#%%\n"
    }
   },
   "outputs": [
    {
     "data": {
      "text/plain": "<AxesSubplot:>"
     },
     "execution_count": 9,
     "metadata": {},
     "output_type": "execute_result"
    },
    {
     "data": {
      "text/plain": "<Figure size 720x576 with 1 Axes>",
      "image/png": "[encoded data removed]"
     },
     "metadata": {
      "needs_background": "light"
     },
     "output_type": "display_data"
    }
   ],
   "source": [
    "# plot the unique value counts for the EssayScore column which holds the target data.\n",
    "essays['EssayScore'].value_counts().sort_index().plot(kind='bar', figsize=(10,8), fontsize=16)"
   ]
  },
  {
   "cell_type": "markdown",
   "source": [
    "Another property that is going to be explored is the sequence length, i.e. word count, in each essay. Later in data preprocessing step, it will be used to determine the maximum length for data tokenization. Below chart shows the frequency of the word counts for all the essay data. The yellow line represents the mean value of the word counts which is almost 300 words in average."
   ],
   "metadata": {
    "collapsed": false,
    "pycharm": {
     "name": "#%% md\n"
    }
   }
  },
  {
   "cell_type": "code",
   "execution_count": 10,
   "id": "e07d4ed0-81ab-450b-8d3c-292d131b1e1b",
   "metadata": {
    "pycharm": {
     "name": "#%%\n"
    }
   },
   "outputs": [],
   "source": [
    "# get the word counts in each essay body.\n",
    "seqlen = essays['EssayBody'].apply(lambda x: len(x.split()))"
   ]
  },
  {
   "cell_type": "code",
   "execution_count": 11,
   "id": "30d32648-b913-47d0-87b6-3a20837aadf2",
   "metadata": {
    "pycharm": {
     "name": "#%%\n"
    }
   },
   "outputs": [
    {
     "data": {
      "text/plain": "<matplotlib.lines.Line2D at 0x7fc1286b3370>"
     },
     "execution_count": 11,
     "metadata": {},
     "output_type": "execute_result"
    },
    {
     "data": {
      "text/plain": "<Figure size 604.8x504 with 1 Axes>",
      "image/png": "[encoded data removed]"
     },
     "metadata": {},
     "output_type": "display_data"
    }
   ],
   "source": [
    "# plot the word count frequencies for each word count range\n",
    "sns.set_style('darkgrid')\n",
    "sns.displot(seqlen, height=7, aspect=1.2)\n",
    "plt.axvline(x=seqlen.mean(), linewidth=3, color='y', label=\"mean\", alpha=0.5)"
   ]
  },
  {
   "cell_type": "markdown",
   "source": [
    "### 2.4-Data Preprocessing\n",
    "#### 2.4.1 Encoding Score Data\n",
    "In order to simplify data processing and improve the classification accuracy, the target data (essay scores) need to be grouped according to the score range. Below cell includes a function that checks for each essay and replaces the score value accordingly."
   ],
   "metadata": {
    "collapsed": false,
    "pycharm": {
     "name": "#%% md\n"
    }
   }
  },
  {
   "cell_type": "code",
   "execution_count": 12,
   "outputs": [],
   "source": [
    "# function to relabel essay score data\n",
    "def new_label(value):\n",
    "    if value > 8:\n",
    "        return 'High Band'\n",
    "    elif value > 7:\n",
    "        return 'Moderate Band'\n",
    "    else:\n",
    "        return 'Low Band'"
   ],
   "metadata": {
    "collapsed": false,
    "pycharm": {
     "name": "#%%\n"
    }
   }
  },
  {
   "cell_type": "markdown",
   "source": [
    "Let's apply above function to EssayScore column to change the label values."
   ],
   "metadata": {
    "collapsed": false,
    "pycharm": {
     "name": "#%% md\n"
    }
   }
  },
  {
   "cell_type": "code",
   "execution_count": 13,
   "outputs": [
    {
     "data": {
      "text/plain": "                                           EssayTopic  \\\n60  What kind of climate do you prefer to live in?...   \n55  What kind of climate do you prefer to live in?...   \n31  It is possible to be single for all your life ...   \n40  Money can solve all problems. Do you agree or ...   \n10  What kind of climate do you prefer to live in?...   \n\n                                            EssayBody   S1   S2   S3  \\\n60   Human live in the earth, as result they have ...  5.0  5.5  5.0   \n55   If I want to choose a climate for living in t...  5.0  5.0  5.0   \n31   As long as the world around us has become mod...  5.0  5.0  5.0   \n40   These days, people’s life is more complex, ha...  5.0  5.0  5.0   \n10   If I want to choose a climate for living in t...  5.0  5.0  5.0   \n\n   EssayScore  \n60   Low Band  \n55   Low Band  \n31   Low Band  \n40   Low Band  \n10   Low Band  ",
      "text/html": "<div>\n<style scoped>\n    .dataframe tbody tr th:only-of-type {\n        vertical-align: middle;\n    }\n\n    .dataframe tbody tr th {\n        vertical-align: top;\n    }\n\n    .dataframe thead th {\n        text-align: right;\n    }\n</style>\n<table border=\"1\" class=\"dataframe\">\n  <thead>\n    <tr style=\"text-align: right;\">\n      <th></th>\n      <th>EssayTopic</th>\n      <th>EssayBody</th>\n      <th>S1</th>\n      <th>S2</th>\n      <th>S3</th>\n      <th>EssayScore</th>\n    </tr>\n  </thead>\n  <tbody>\n    <tr>\n      <th>60</th>\n      <td>What kind of climate do you prefer to live in?...</td>\n      <td>Human live in the earth, as result they have ...</td>\n      <td>5.0</td>\n      <td>5.5</td>\n      <td>5.0</td>\n      <td>Low Band</td>\n    </tr>\n    <tr>\n      <th>55</th>\n      <td>What kind of climate do you prefer to live in?...</td>\n      <td>If I want to choose a climate for living in t...</td>\n      <td>5.0</td>\n      <td>5.0</td>\n      <td>5.0</td>\n      <td>Low Band</td>\n    </tr>\n    <tr>\n      <th>31</th>\n      <td>It is possible to be single for all your life ...</td>\n      <td>As long as the world around us has become mod...</td>\n      <td>5.0</td>\n      <td>5.0</td>\n      <td>5.0</td>\n      <td>Low Band</td>\n    </tr>\n    <tr>\n      <th>40</th>\n      <td>Money can solve all problems. Do you agree or ...</td>\n      <td>These days, people’s life is more complex, ha...</td>\n      <td>5.0</td>\n      <td>5.0</td>\n      <td>5.0</td>\n      <td>Low Band</td>\n    </tr>\n    <tr>\n      <th>10</th>\n      <td>What kind of climate do you prefer to live in?...</td>\n      <td>If I want to choose a climate for living in t...</td>\n      <td>5.0</td>\n      <td>5.0</td>\n      <td>5.0</td>\n      <td>Low Band</td>\n    </tr>\n  </tbody>\n</table>\n</div>"
     },
     "execution_count": 13,
     "metadata": {},
     "output_type": "execute_result"
    }
   ],
   "source": [
    "# apply new_label function\n",
    "essays['EssayScore'] = essays['EssayScore'].map(new_label)\n",
    "essays.head()"
   ],
   "metadata": {
    "collapsed": false,
    "pycharm": {
     "name": "#%%\n"
    }
   }
  },
  {
   "cell_type": "markdown",
   "source": [
    "After executing the code, distribution of the new scores values and their frequencies will be printed by using the below code and chart."
   ],
   "metadata": {
    "collapsed": false,
    "pycharm": {
     "name": "#%% md\n"
    }
   }
  },
  {
   "cell_type": "code",
   "execution_count": 14,
   "outputs": [
    {
     "name": "stdout",
     "output_type": "stream",
     "text": [
      "Low Band         24\n",
      "High Band        23\n",
      "Moderate Band    21\n",
      "Name: EssayScore, dtype: int64\n"
     ]
    },
    {
     "data": {
      "text/plain": "<AxesSubplot:>"
     },
     "execution_count": 14,
     "metadata": {},
     "output_type": "execute_result"
    },
    {
     "data": {
      "text/plain": "<Figure size 720x576 with 1 Axes>",
      "image/png": "[encoded data removed]"
     },
     "metadata": {},
     "output_type": "display_data"
    }
   ],
   "source": [
    "# print the new value counts for new essay score labels and plot them to a bar chart\n",
    "print(essays['EssayScore'].value_counts())\n",
    "essays['EssayScore'].value_counts().plot(kind='bar', figsize=(10,8))"
   ],
   "metadata": {
    "collapsed": false,
    "pycharm": {
     "name": "#%%\n"
    }
   }
  },
  {
   "cell_type": "markdown",
   "source": [
    "Computers are better understanding the number, so the string class values for essay scores need to be encoded as numbers. In order to do that, a new python dictionary is created according to unique values of essay scores and this dictionary is used to replace the string score values as numerical score values. Then, column data type is converted to integer to ensure that the data is numerical and ready to be used in the machine learning model."
   ],
   "metadata": {
    "collapsed": false,
    "pycharm": {
     "name": "#%% md\n"
    }
   }
  },
  {
   "cell_type": "code",
   "execution_count": 15,
   "id": "f5f96ec1",
   "metadata": {
    "pycharm": {
     "name": "#%%\n"
    }
   },
   "outputs": [
    {
     "data": {
      "text/plain": "{'Low Band': 0, 'Moderate Band': 1, 'High Band': 2}"
     },
     "execution_count": 15,
     "metadata": {},
     "output_type": "execute_result"
    }
   ],
   "source": [
    "# create a python dictionary to hold the unique values of target data. this dictionary will be used to encode the labels\n",
    "possible_labels = essays.EssayScore.unique()\n",
    "\n",
    "label_dict = {}\n",
    "for index, possible_label in enumerate(possible_labels):\n",
    "    label_dict[possible_label] = index\n",
    "label_dict"
   ]
  },
  {
   "cell_type": "code",
   "execution_count": 16,
   "id": "41fa3e03",
   "metadata": {
    "pycharm": {
     "name": "#%%\n"
    }
   },
   "outputs": [],
   "source": [
    "# encode the score data by using the label dictionary\n",
    "essays['EssayScore'] = essays.EssayScore.replace(label_dict)\n",
    "essays = essays.astype({'EssayScore': int})"
   ]
  },
  {
   "cell_type": "markdown",
   "source": [
    "#### 2.4.2 Named Entity Recognition\n",
    "Named entity recognition (NER) helps to easily identify the key elements in a text, like names of people, places, brands, monetary values, and more. Extracting the main entities in a text helps sort unstructured data and detect important information, which is crucial when it requires to deal with large datasets.\n",
    "\n",
    "Following two cells finds named entities in the essay text and replaces them with their corresponding NER labels."
   ],
   "metadata": {
    "collapsed": false,
    "pycharm": {
     "name": "#%% md\n"
    }
   }
  },
  {
   "cell_type": "code",
   "execution_count": 17,
   "outputs": [],
   "source": [
    "# load spycy for named entity recognition\n",
    "nlp = spacy.load(\"en_core_web_sm\")\n",
    "nlp.add_pipe(\"merge_entities\")\n",
    "\n",
    "# create the function for named entity recognition\n",
    "def ner_tag(text):\n",
    "    doc = nlp(text)\n",
    "    new_text = (\" \".join([t.text if not t.ent_type_ else '@' + t.ent_type_ for t in doc])).strip()\n",
    "    return new_text"
   ],
   "metadata": {
    "collapsed": false,
    "pycharm": {
     "name": "#%%\n"
    }
   }
  },
  {
   "cell_type": "code",
   "execution_count": 18,
   "outputs": [],
   "source": [
    "# apply named entity recognition to the essay text.\n",
    "essays['EssayBody'] = essays['EssayBody'].map(ner_tag)"
   ],
   "metadata": {
    "collapsed": false,
    "pycharm": {
     "name": "#%%\n"
    }
   }
  },
  {
   "cell_type": "markdown",
   "source": [
    "______\n",
    "______"
   ],
   "metadata": {
    "collapsed": false,
    "pycharm": {
     "name": "#%% md\n"
    }
   }
  },
  {
   "cell_type": "markdown",
   "source": [
    "## 3-Model Building\n",
    "### 3.1-Split Train-Test Data\n",
    "To be able to train the model, the dataset must be divided as train and test data set. The train-test split procedure is used to estimate the performance of machine learning algorithms when they are used to make predictions on data not used to train the model. It is a fast and easy procedure to perform, the results of which allow you to compare the performance of machine learning algorithms for the predictive modeling problem.\n",
    "\n",
    " Because in our dataset the labels are imbalanced, the dataset will be split in a stratified fashion, by using unique values of the target data. Thus, each label will have a balanced train and test data according to the proportion of the number of values. Below cell executes the code which splits the data into train and test data sets.\n"
   ],
   "metadata": {
    "collapsed": false,
    "pycharm": {
     "name": "#%% md\n"
    }
   }
  },
  {
   "cell_type": "code",
   "execution_count": 19,
   "id": "3d77e0d2",
   "metadata": {
    "pycharm": {
     "name": "#%%\n"
    }
   },
   "outputs": [
    {
     "data": {
      "text/plain": "                      EssayTopic  EssayBody  S1  S2  S3\nEssayScore data_type                                   \n0          train              19         19  19  19  19\n           val                 5          5   5   5   5\n1          train              17         17  17  17  17\n           val                 4          4   4   4   4\n2          train              18         18  18  18  18\n           val                 5          5   5   5   5",
      "text/html": "<div>\n<style scoped>\n    .dataframe tbody tr th:only-of-type {\n        vertical-align: middle;\n    }\n\n    .dataframe tbody tr th {\n        vertical-align: top;\n    }\n\n    .dataframe thead th {\n        text-align: right;\n    }\n</style>\n<table border=\"1\" class=\"dataframe\">\n  <thead>\n    <tr style=\"text-align: right;\">\n      <th></th>\n      <th></th>\n      <th>EssayTopic</th>\n      <th>EssayBody</th>\n      <th>S1</th>\n      <th>S2</th>\n      <th>S3</th>\n    </tr>\n    <tr>\n      <th>EssayScore</th>\n      <th>data_type</th>\n      <th></th>\n      <th></th>\n      <th></th>\n      <th></th>\n      <th></th>\n    </tr>\n  </thead>\n  <tbody>\n    <tr>\n      <th rowspan=\"2\" valign=\"top\">0</th>\n      <th>train</th>\n      <td>19</td>\n      <td>19</td>\n      <td>19</td>\n      <td>19</td>\n      <td>19</td>\n    </tr>\n    <tr>\n      <th>val</th>\n      <td>5</td>\n      <td>5</td>\n      <td>5</td>\n      <td>5</td>\n      <td>5</td>\n    </tr>\n    <tr>\n      <th rowspan=\"2\" valign=\"top\">1</th>\n      <th>train</th>\n      <td>17</td>\n      <td>17</td>\n      <td>17</td>\n      <td>17</td>\n      <td>17</td>\n    </tr>\n    <tr>\n      <th>val</th>\n      <td>4</td>\n      <td>4</td>\n      <td>4</td>\n      <td>4</td>\n      <td>4</td>\n    </tr>\n    <tr>\n      <th rowspan=\"2\" valign=\"top\">2</th>\n      <th>train</th>\n      <td>18</td>\n      <td>18</td>\n      <td>18</td>\n      <td>18</td>\n      <td>18</td>\n    </tr>\n    <tr>\n      <th>val</th>\n      <td>5</td>\n      <td>5</td>\n      <td>5</td>\n      <td>5</td>\n      <td>5</td>\n    </tr>\n  </tbody>\n</table>\n</div>"
     },
     "execution_count": 19,
     "metadata": {},
     "output_type": "execute_result"
    }
   ],
   "source": [
    "# Split data to train-test dataset. Data will be split according to number of occurrences of each unique score.\n",
    "X_train, X_val, y_train, y_val = train_test_split(essays.index.values, \n",
    "                                                  essays.EssayScore.values, \n",
    "                                                  test_size=0.20, \n",
    "                                                  random_state=42, \n",
    "                                                  stratify=essays.EssayScore.values)\n",
    "\n",
    "essays['data_type'] = ['not_set']*essays.shape[0]\n",
    "\n",
    "essays.loc[X_train, 'data_type'] = 'train'\n",
    "essays.loc[X_val, 'data_type'] = 'val'\n",
    "\n",
    "# show the train-test dataset counts for each score value\n",
    "essays.groupby(['EssayScore', 'data_type']).count()"
   ]
  },
  {
   "cell_type": "markdown",
   "source": [
    "### 3.2-Tokenize the Essay Text\n",
    "Tokenization is a way of separating a piece of text into smaller units called tokens. These tokens help in understanding the context or developing the model for the NLP. The tokenization helps in interpreting the meaning of the text by analyzing the sequence of the words.\n",
    "\n",
    "For our model, we will be implementing BERT tokenizer which uses what is called a WordPiece tokenizer. It works by splitting words either into the full forms (e.g., one word becomes one token) or into word pieces— where one word can be broken into multiple tokens.\n",
    "\n",
    "A pre-trained BERT model configuration must be initialized in order to encode the data. To convert all the essays from text into encoded form, a function called batch_encode_plus is used. Also train and validation data will be tokenized separately. Below code tokenizes all the data.\n"
   ],
   "metadata": {
    "collapsed": false,
    "pycharm": {
     "name": "#%% md\n"
    }
   }
  },
  {
   "cell_type": "code",
   "execution_count": 20,
   "id": "87ae9259",
   "metadata": {
    "pycharm": {
     "name": "#%%\n"
    }
   },
   "outputs": [],
   "source": [
    "# get the pre-trained tokenizer\n",
    "tokenizer = BertTokenizer.from_pretrained('bert-base-uncased', do_lower_case=True)\n",
    "\n",
    "# get the tokens for train data\n",
    "encoded_data_train = tokenizer.batch_encode_plus(\n",
    "    essays[essays.data_type=='train'].EssayBody.values, \n",
    "    add_special_tokens=True, \n",
    "    return_attention_mask=True, \n",
    "    padding='max_length', \n",
    "    max_length = 318,\n",
    "    truncation=True,\n",
    "    return_tensors='pt'\n",
    ")\n",
    "\n",
    "# get the tokens for test data\n",
    "encoded_data_val = tokenizer.batch_encode_plus(\n",
    "    essays[essays.data_type=='val'].EssayBody.values, \n",
    "    add_special_tokens=True, \n",
    "    return_attention_mask=True, \n",
    "    padding='max_length', \n",
    "    max_length = 318,\n",
    "    truncation=True,\n",
    "    return_tensors='pt'\n",
    ")\n",
    "\n",
    "# get input_ids, attention mask, and labels for train data\n",
    "input_ids_train = encoded_data_train['input_ids']\n",
    "attention_masks_train = encoded_data_train['attention_mask']\n",
    "labels_train = torch.tensor(essays[essays.data_type=='train'].EssayScore.values)\n",
    "\n",
    "# get input_ids, attention mask, and labels for test data\n",
    "input_ids_val = encoded_data_val['input_ids']\n",
    "attention_masks_val = encoded_data_val['attention_mask']\n",
    "labels_val = torch.tensor(essays[essays.data_type=='val'].EssayScore.values)\n",
    "\n",
    "# form train and test data from encoded data with tensors\n",
    "dataset_train = TensorDataset(input_ids_train, attention_masks_train, labels_train)\n",
    "dataset_val = TensorDataset(input_ids_val, attention_masks_val, labels_val)"
   ]
  },
  {
   "cell_type": "markdown",
   "id": "095ba519",
   "metadata": {
    "pycharm": {
     "name": "#%% md\n"
    }
   },
   "source": [
    "After getting the tokenized data, it needs to be split into input_ids, attention_masks and labels. Input IDs are simply mappings between tokens and their respective IDs. The attention mask is to prevent the model from looking at padding tokens. Finally, encoded training dataset and test dataset is extracted from tokenized data. Now the data is ready to be used in the model building process."
   ]
  },
  {
   "cell_type": "markdown",
   "id": "e4bfa868",
   "metadata": {
    "pycharm": {
     "name": "#%% md\n"
    }
   },
   "source": [
    "### 3.3-Model Building\n",
    "#### 3.3.1 Model Selection\n",
    "For this project, data will be trained by using BERT - Bidirectional Encoder Representations from Transformers- which is a transformer-based machine learning technique for natural language processing (NLP) developed by Google. BERT was pre-trained on unsupervised Wikipedia and Bookcorpus datasets using language modeling.\n",
    "\n",
    "Two types of BERT models are introduced- BERTBase and BERTLarge – according to the depth of the model architecture. The BERTBase model uses 12 layers of transformers block with a hidden size of 768 and number of self-attention heads as 12 and has around 110M trainable parameters. On the other hand, BERTLarge uses 24 layers of transformers block with a hidden size of 1024 and number of self-attention heads as 16 and has around 340M trainable parameters.\n",
    "\n",
    "\n",
    "For the implementation of BERT for any task on our dataset, pre-trained weights are available and these pre-trained weights will be used to fine-tune the model on our own dataset. Each essay text is being treated as its unique sequence, so one sequence will be classified to one of the three labels (i.e. Low, moderate or high band). From the BERT model library, BertForSequenceClassification model is used with the following parameters\n",
    "•\tbert-base-uncased: as the pretrained weights which is a lightweight model.\n",
    "•\tUsing num_labels equal to length of label dictionary which indicates the number of output labels.\n",
    "•\toutput_attentions and output_hidden_states are set to false since they are not really required.\n"
   ]
  },
  {
   "cell_type": "code",
   "execution_count": 21,
   "id": "c7b82340",
   "metadata": {
    "pycharm": {
     "name": "#%%\n"
    }
   },
   "outputs": [
    {
     "name": "stderr",
     "output_type": "stream",
     "text": [
      "Some weights of the model checkpoint at bert-base-uncased were not used when initializing BertForSequenceClassification: ['cls.predictions.transform.LayerNorm.weight', 'cls.seq_relationship.weight', 'cls.predictions.transform.dense.bias', 'cls.predictions.decoder.weight', 'cls.predictions.transform.dense.weight', 'cls.predictions.bias', 'cls.predictions.transform.LayerNorm.bias', 'cls.seq_relationship.bias']\n",
      "- This IS expected if you are initializing BertForSequenceClassification from the checkpoint of a model trained on another task or with another architecture (e.g. initializing a BertForSequenceClassification model from a BertForPreTraining model).\n",
      "- This IS NOT expected if you are initializing BertForSequenceClassification from the checkpoint of a model that you expect to be exactly identical (initializing a BertForSequenceClassification model from a BertForSequenceClassification model).\n",
      "Some weights of BertForSequenceClassification were not initialized from the model checkpoint at bert-base-uncased and are newly initialized: ['classifier.bias', 'classifier.weight']\n",
      "You should probably TRAIN this model on a down-stream task to be able to use it for predictions and inference.\n"
     ]
    }
   ],
   "source": [
    "# model selection: BERT sequence classifier model is used with pretrained weights.\n",
    "model = BertForSequenceClassification.from_pretrained(\"bert-base-uncased\",\n",
    "                                                      num_labels=len(label_dict),\n",
    "                                                      output_attentions=False,\n",
    "                                                      output_hidden_states=False)"
   ]
  },
  {
   "cell_type": "markdown",
   "source": [
    "#### 3.3.2 Creating the Data Loaders\n",
    "PyTorch’s DataLoader is a useful feature that keeps the data organized and simplifies our machine learning pipeline. It allows us to iterate the data, manage batches, and shuffle the samples to avoid overfitting. In this project, we used RandomSampler for training and SequentialSampler for validation.\n",
    "\n",
    "The batch size refers to how many training instances are employed in a single iteration. This is usually used when the number of training instances is quite large, and it is usually effective to divide the entire data into small batches. Minimum number for batch size is 1. As the batch size increases, so the memory usage increases too. Thus, in case there is limited memory available, the batch size should be kept minimum.\n"
   ],
   "metadata": {
    "collapsed": false,
    "pycharm": {
     "name": "#%% md\n"
    }
   }
  },
  {
   "cell_type": "code",
   "execution_count": 43,
   "id": "c86a044f",
   "metadata": {
    "pycharm": {
     "name": "#%%\n"
    }
   },
   "outputs": [],
   "source": [
    "# create the dataloaders with a batch size of 1\n",
    "batch_size = 1\n",
    "\n",
    "# create train dataloader with random sampler\n",
    "dataloader_train = DataLoader(dataset_train, \n",
    "                              sampler=RandomSampler(dataset_train), \n",
    "                              batch_size=batch_size)\n",
    "\n",
    "# create validation dataloader with sequential sampler\n",
    "dataloader_validation = DataLoader(dataset_val, \n",
    "                                   sampler=SequentialSampler(dataset_val), \n",
    "                                   batch_size=batch_size)"
   ]
  },
  {
   "cell_type": "markdown",
   "source": [
    "#### 3.3.3 Optimizer and Scheduler Selection\n",
    "For this project, Pytorch’s AdamW optimizer with a scheduler is used to optimize the learning process. The adam optimizer has several benefits such as it is straightforward to implement, has faster running time, low memory requirements, and requires less tuning than any other optimization algorithm.\n",
    "\n",
    "As the scheduler, get_linear_schedule_with_warmup from the transformers library is used to create a schedule with a learning rate that decreases linearly from the initial lr set in the optimizer to 0, after a warmup period during which it increases linearly from 0 to the initial lr set in the optimizer."
   ],
   "metadata": {
    "collapsed": false,
    "pycharm": {
     "name": "#%% md\n"
    }
   }
  },
  {
   "cell_type": "code",
   "execution_count": 18,
   "id": "45ddae58-6758-4e30-83d1-73a40b62f3fd",
   "metadata": {
    "pycharm": {
     "name": "#%%\n"
    }
   },
   "outputs": [
    {
     "name": "stderr",
     "output_type": "stream",
     "text": [
      "/home/studio-lab-user/.conda/envs/default/lib/python3.9/site-packages/transformers/optimization.py:306: FutureWarning: This implementation of AdamW is deprecated and will be removed in a future version. Use the PyTorch implementation torch.optim.AdamW instead, or set `no_deprecation_warning=True` to disable this warning\n",
      "  warnings.warn(\n"
     ]
    }
   ],
   "source": [
    "# select AdamW optimizer for optimization job\n",
    "optimizer = AdamW(model.parameters(),\n",
    "                  lr=3e-5, \n",
    "                  eps=1e-8)\n",
    "# set the number of epochs\n",
    "epochs = 5\n",
    "\n",
    "# set the scheduler\n",
    "scheduler = get_linear_schedule_with_warmup(optimizer, \n",
    "                                            num_warmup_steps=0,\n",
    "                                            num_training_steps=len(dataloader_train)*epochs)"
   ]
  },
  {
   "cell_type": "markdown",
   "source": [
    "#### 3.3.4 Creating Accuracy Functions with Metrics\n",
    "For this project, F1 score has been used as a model performance metric. The F-score or F-measure is a measure of a test's accuracy. It is calculated from the precision and recall of the test, where the precision is the number of true positive results divided by the number of all positive results, including those not identified correctly, and the recall is the number of true positive results divided by the number of all samples that should have been identified as positive.\n",
    "\n",
    "The F1 score becomes especially valuable when working on classification models in which the data set is imbalanced. Additionally, the F1 score works much better in estimating the performance of a machine learning model.\n",
    "\n",
    "Moreover, accuracy of each class is calculated by getting the number of true values and true predictions. This is done by the accuracy_per_class function. We will use this function after training and saving the model to see the accuracy of saved model."
   ],
   "metadata": {
    "collapsed": false,
    "pycharm": {
     "name": "#%% md\n"
    }
   }
  },
  {
   "cell_type": "code",
   "execution_count": 22,
   "id": "776beb30",
   "metadata": {
    "pycharm": {
     "name": "#%%\n"
    }
   },
   "outputs": [],
   "source": [
    "# this function calculates the F1 score\n",
    "def calculate_f1_score(predicted, labels):\n",
    "    predictions_flat = np.argmax(predicted, axis=1).flatten()\n",
    "    labels_flat = labels.flatten()\n",
    "    return f1_score(labels_flat, predictions_flat, average='weighted')\n",
    "\n",
    "# this function calculates the accuracy of each class by getting the correct predictions\n",
    "def accuracy_per_class(predicted, labels):\n",
    "    label_dict_inverse = {v: k for k, v in label_dict.items()}\n",
    "    \n",
    "    predictions_flat = np.argmax(predicted, axis=1).flatten()\n",
    "    labels_flat = labels.flatten()\n",
    "\n",
    "    for label in np.unique(labels_flat):\n",
    "        y_predictions = predictions_flat[labels_flat==label]\n",
    "        y_true = labels_flat[labels_flat==label]\n",
    "        print(f'Class: {label_dict_inverse[label]}')\n",
    "        print(f'Accuracy: {len(y_predictions[y_predictions==label])}/{len(y_true)}\\n')"
   ]
  },
  {
   "cell_type": "code",
   "execution_count": 23,
   "id": "b4a9ad62",
   "metadata": {
    "pycharm": {
     "name": "#%%\n"
    }
   },
   "outputs": [
    {
     "name": "stdout",
     "output_type": "stream",
     "text": [
      "cpu\n"
     ]
    }
   ],
   "source": [
    "# set the device to CUDA if GPU is available for fast processing, otherwise us CPU\n",
    "device = torch.device('cuda' if torch.cuda.is_available() else 'cpu')\n",
    "model.to(device)\n",
    "print(device)"
   ]
  },
  {
   "cell_type": "markdown",
   "source": [
    "#### 3.3.5 Evaluation Function\n",
    "Before starting to train the model, we will create the evaluation function which will perform predictions and validations for the model training and model evaluation. This functions includes an input parameter which holds the dataloader values for validation data. After execution, evaluation function returns three variables that keeps the results for average loss value, predicted values, and true values from test dataset."
   ],
   "metadata": {
    "collapsed": false,
    "pycharm": {
     "name": "#%% md\n"
    }
   }
  },
  {
   "cell_type": "code",
   "execution_count": 19,
   "id": "f1336670",
   "metadata": {
    "pycharm": {
     "name": "#%%\n"
    }
   },
   "outputs": [],
   "source": [
    "def evaluate(dataloader_val):\n",
    "    # switch model to evaluation mode\n",
    "    model.eval()\n",
    "\n",
    "    # define variables to hold predictions, loss and true values\n",
    "    loss_val_total = 0\n",
    "    predictions, true_vals = [], []\n",
    "\n",
    "    # Start predictions for each data in dataloader\n",
    "    for batch in dataloader_val:\n",
    "        \n",
    "        batch = tuple(b.to(device) for b in batch)\n",
    "        \n",
    "        inputs = {'input_ids':      batch[0],\n",
    "                  'attention_mask': batch[1],\n",
    "                  'labels':         batch[2],\n",
    "                 }\n",
    "\n",
    "        with torch.no_grad():        \n",
    "            outputs = model(**inputs)\n",
    "            \n",
    "        loss = outputs[0]\n",
    "        logits = outputs[1]\n",
    "        loss_val_total += loss.item()\n",
    "\n",
    "        logits = logits.detach().cpu().numpy()\n",
    "        label_ids = inputs['labels'].cpu().numpy()\n",
    "        predictions.append(logits)\n",
    "        true_vals.append(label_ids)\n",
    "\n",
    "    # calculate averge loss value\n",
    "    loss_val_avg = loss_val_total/len(dataloader_val) \n",
    "\n",
    "    # list predictions and true values\n",
    "    predictions = np.concatenate(predictions, axis=0)\n",
    "    true_vals = np.concatenate(true_vals, axis=0)\n",
    "\n",
    "    # return all the results\n",
    "    return loss_val_avg, predictions, true_vals"
   ]
  },
  {
   "cell_type": "code",
   "execution_count": 7,
   "id": "de6520cb-8b37-4d70-98dd-1b9db95aa4a6",
   "metadata": {
    "pycharm": {
     "name": "#%%\n"
    }
   },
   "outputs": [],
   "source": [
    "# This function clears the cash in case there is not any available memory for cuda device\n",
    "gc.collect()\n",
    "torch.cuda.empty_cache()"
   ]
  },
  {
   "cell_type": "markdown",
   "source": [
    "#### 3.3.6 Model Training\n",
    "In the final step, we are ready to train our model by combining all the parameters created so far. Model is switched to training mode and fed by the training data which includes input ids, attention mask and the labels. A better visual representation is provided by adding the tqdm library and the progress bar. There are two loops; outer loop provides iterations for each epoch and inner loop provides iteration for training. At the end of each epoch, training loss, validation loss, and f1 score is calculated and the model is saved to a folder. The best model trained then will be used for evaluation purposes."
   ],
   "metadata": {
    "collapsed": false,
    "pycharm": {
     "name": "#%% md\n"
    }
   }
  },
  {
   "cell_type": "code",
   "execution_count": 24,
   "id": "a161b264",
   "metadata": {
    "pycharm": {
     "name": "#%%\n"
    }
   },
   "outputs": [
    {
     "data": {
      "application/vnd.jupyter.widget-view+json": {
       "model_id": "7db6ffb54ba44278848226cc7c70c8b2",
       "version_major": 2,
       "version_minor": 0
      },
      "text/plain": [
       "  0%|          | 0/5 [00:00<?, ?it/s]"
      ]
     },
     "metadata": {},
     "output_type": "display_data"
    },
    {
     "data": {
      "application/vnd.jupyter.widget-view+json": {
       "model_id": "",
       "version_major": 2,
       "version_minor": 0
      },
      "text/plain": [
       "Epoch 1:   0%|          | 0/54 [00:00<?, ?it/s]"
      ]
     },
     "metadata": {},
     "output_type": "display_data"
    },
    {
     "name": "stdout",
     "output_type": "stream",
     "text": [
      "\n",
      "Epoch 1\n",
      "Training loss: 1.1003459416053913\n",
      "Validation loss: 1.0911068235124861\n",
      "F1 Score (Weighted): 0.3174603174603175\n"
     ]
    },
    {
     "data": {
      "application/vnd.jupyter.widget-view+json": {
       "model_id": "",
       "version_major": 2,
       "version_minor": 0
      },
      "text/plain": [
       "Epoch 2:   0%|          | 0/54 [00:00<?, ?it/s]"
      ]
     },
     "metadata": {},
     "output_type": "display_data"
    },
    {
     "name": "stdout",
     "output_type": "stream",
     "text": [
      "\n",
      "Epoch 2\n",
      "Training loss: 1.0030735394469015\n",
      "Validation loss: 0.8250943379742759\n",
      "F1 Score (Weighted): 0.4693877551020408\n"
     ]
    },
    {
     "data": {
      "application/vnd.jupyter.widget-view+json": {
       "model_id": "",
       "version_major": 2,
       "version_minor": 0
      },
      "text/plain": [
       "Epoch 3:   0%|          | 0/54 [00:00<?, ?it/s]"
      ]
     },
     "metadata": {},
     "output_type": "display_data"
    },
    {
     "name": "stdout",
     "output_type": "stream",
     "text": [
      "\n",
      "Epoch 3\n",
      "Training loss: 0.9710028397816198\n",
      "Validation loss: 0.6448051386645862\n",
      "F1 Score (Weighted): 0.8398268398268397\n"
     ]
    },
    {
     "data": {
      "application/vnd.jupyter.widget-view+json": {
       "model_id": "",
       "version_major": 2,
       "version_minor": 0
      },
      "text/plain": [
       "Epoch 4:   0%|          | 0/54 [00:00<?, ?it/s]"
      ]
     },
     "metadata": {},
     "output_type": "display_data"
    },
    {
     "name": "stdout",
     "output_type": "stream",
     "text": [
      "\n",
      "Epoch 4\n",
      "Training loss: 0.7429846806658639\n",
      "Validation loss: 0.5844805517366954\n",
      "F1 Score (Weighted): 0.7736549165120594\n"
     ]
    },
    {
     "data": {
      "application/vnd.jupyter.widget-view+json": {
       "model_id": "",
       "version_major": 2,
       "version_minor": 0
      },
      "text/plain": [
       "Epoch 5:   0%|          | 0/54 [00:00<?, ?it/s]"
      ]
     },
     "metadata": {},
     "output_type": "display_data"
    },
    {
     "name": "stdout",
     "output_type": "stream",
     "text": [
      "\n",
      "Epoch 5\n",
      "Training loss: 0.647342998534441\n",
      "Validation loss: 0.6297583042510918\n",
      "F1 Score (Weighted): 0.7142857142857144\n"
     ]
    }
   ],
   "source": [
    "# first loop to start iterate through each epoch\n",
    "for epoch in tqdm(range(1, epochs+1)):\n",
    "    #switch model to training mode\n",
    "    model.train()\n",
    "    \n",
    "    loss_train_total = 0\n",
    "    #start training the model\n",
    "    progress_bar = tqdm(dataloader_train, desc='Epoch {:1d}'.format(epoch), leave=False, disable=False)\n",
    "    for batch in progress_bar:\n",
    "\n",
    "        model.zero_grad()\n",
    "        \n",
    "        batch = tuple(b.to(device) for b in batch)\n",
    "        \n",
    "        inputs = {'input_ids':      batch[0],\n",
    "                  'attention_mask': batch[1],\n",
    "                  'labels':         batch[2],\n",
    "                 }       \n",
    "\n",
    "        outputs = model(**inputs)\n",
    "        \n",
    "        loss = outputs[0]\n",
    "        loss_train_total += loss.item()\n",
    "        loss.backward()\n",
    "\n",
    "        torch.nn.utils.clip_grad_norm_(model.parameters(), 1.0)\n",
    "\n",
    "        optimizer.step()\n",
    "        scheduler.step()\n",
    "        \n",
    "        progress_bar.set_postfix({'training_loss': '{:.3f}'.format(loss.item()/len(batch))})\n",
    "         \n",
    "    # save model for future use\n",
    "    torch.save(model.state_dict(), f'data_volume/finetuned_BERT_epoch_{epoch}.model')\n",
    "        \n",
    "    tqdm.write(f'\\nEpoch {epoch}')\n",
    "    # calculate training loss\n",
    "    loss_train_avg = loss_train_total/len(dataloader_train)            \n",
    "    tqdm.write(f'Training loss: {loss_train_avg}')\n",
    "    # calculate validation loss and f1 score\n",
    "    val_loss, predictions, true_vals = evaluate(dataloader_validation)\n",
    "    val_f1 = calculate_f1_score(predictions, true_vals)\n",
    "    tqdm.write(f'Validation loss: {val_loss}')\n",
    "    tqdm.write(f'F1 Score (Weighted): {val_f1}')"
   ]
  },
  {
   "cell_type": "markdown",
   "source": [
    "#### 3.3.7 Accuracy Per Class\n",
    "After completing the training phase, the best model with the best f1 score is used for calculating the accuracy of each class. By using load_state_dict method of the model, first we load our saved model and then make predictions according to the test data. Finally, accuracy_per_class function was called to print the accuracy of each label value."
   ],
   "metadata": {
    "collapsed": false,
    "pycharm": {
     "name": "#%% md\n"
    }
   }
  },
  {
   "cell_type": "code",
   "execution_count": 25,
   "id": "6c35e2a5-4812-45d4-aae7-ac472957a8f7",
   "metadata": {
    "pycharm": {
     "name": "#%%\n"
    }
   },
   "outputs": [
    {
     "name": "stderr",
     "output_type": "stream",
     "text": [
      "Some weights of the model checkpoint at bert-base-uncased were not used when initializing BertForSequenceClassification: ['cls.predictions.transform.LayerNorm.weight', 'cls.predictions.decoder.weight', 'cls.predictions.transform.dense.bias', 'cls.predictions.transform.LayerNorm.bias', 'cls.predictions.bias', 'cls.seq_relationship.weight', 'cls.predictions.transform.dense.weight', 'cls.seq_relationship.bias']\n",
      "- This IS expected if you are initializing BertForSequenceClassification from the checkpoint of a model trained on another task or with another architecture (e.g. initializing a BertForSequenceClassification model from a BertForPreTraining model).\n",
      "- This IS NOT expected if you are initializing BertForSequenceClassification from the checkpoint of a model that you expect to be exactly identical (initializing a BertForSequenceClassification model from a BertForSequenceClassification model).\n",
      "Some weights of BertForSequenceClassification were not initialized from the model checkpoint at bert-base-uncased and are newly initialized: ['classifier.weight', 'classifier.bias']\n",
      "You should probably TRAIN this model on a down-stream task to be able to use it for predictions and inference.\n"
     ]
    },
    {
     "name": "stdout",
     "output_type": "stream",
     "text": [
      "Class: Band-6\n",
      "Accuracy: 5/5\n",
      "\n",
      "Class: Band-7\n",
      "Accuracy: 2/4\n",
      "\n",
      "Class: Band-8\n",
      "Accuracy: 5/5\n",
      "\n"
     ]
    }
   ],
   "source": [
    "model = BertForSequenceClassification.from_pretrained(\"bert-base-uncased\",\n",
    "                                                      num_labels=len(label_dict),\n",
    "                                                      output_attentions=False,\n",
    "                                                      output_hidden_states=False)\n",
    "\n",
    "model.to(device)\n",
    "\n",
    "model.load_state_dict(torch.load('model.model', map_location=torch.device('cpu')))\n",
    "\n",
    "_, predictions, true_vals = evaluate(dataloader_validation)\n",
    "accuracy_per_class(predictions, true_vals)"
   ]
  }
 ],
 "metadata": {
  "kernelspec": {
   "name": "python3",
   "language": "python",
   "display_name": "Python 3 (ipykernel)"
  },
  "language_info": {
   "codemirror_mode": {
    "name": "ipython",
    "version": 3
   },
   "file_extension": ".py",
   "mimetype": "text/x-python",
   "name": "python",
   "nbconvert_exporter": "python",
   "pygments_lexer": "ipython3",
   "version": "3.9.12"
  }
 },
 "nbformat": 4,
 "nbformat_minor": 5
}